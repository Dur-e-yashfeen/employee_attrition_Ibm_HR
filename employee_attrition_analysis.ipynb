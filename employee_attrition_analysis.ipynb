{
 "cells": [
  {
   "cell_type": "markdown",
   "id": "ae15b5c1",
   "metadata": {},
   "source": [
    "# Employee Attrition Prediction\n",
    "This notebook explores the IBM HR Analytics dataset to understand employee attrition patterns and key influencing factors."
   ]
  },
  {
   "cell_type": "code",
   "execution_count": null,
   "id": "964227c3",
   "metadata": {},
   "outputs": [],
   "source": [
    "import pandas as pd\n",
    "import matplotlib.pyplot as plt\n",
    "import seaborn as sns\n",
    "\n",
    "# Load dataset\n",
    "file_path = \"WA_Fn-UseC_-HR-Employee-Attrition.csv\"  # Update path if needed\n",
    "df = pd.read_csv(file_path)\n",
    "\n",
    "# Convert Attrition to binary (Yes=1, No=0)\n",
    "df['Attrition'] = df['Attrition'].map({'Yes': 1, 'No': 0})\n",
    "\n",
    "# Display basic info\n",
    "df.info(), df.head()"
   ]
  },
  {
   "cell_type": "code",
   "execution_count": null,
   "id": "00db9ea8",
   "metadata": {},
   "outputs": [],
   "source": [
    "# Attrition Rate Analysis\n",
    "attrition_rate = df['Attrition'].mean() * 100\n",
    "\n",
    "# Plot Attrition Distribution\n",
    "plt.figure(figsize=(6,4))\n",
    "sns.countplot(x=df['Attrition'], palette='coolwarm')\n",
    "plt.xticks([0, 1], ['No Attrition', 'Attrition'])\n",
    "plt.xlabel(\"Attrition\")\n",
    "plt.ylabel(\"Count\")\n",
    "plt.title(f\"Attrition Distribution (Rate: {attrition_rate:.2f}%)\")\n",
    "plt.show()"
   ]
  },
  {
   "cell_type": "code",
   "execution_count": null,
   "id": "ed6a8a5c",
   "metadata": {},
   "outputs": [],
   "source": [
    "# Correlation Analysis\n",
    "correlation = df.corr()['Attrition'].sort_values(ascending=False)\n",
    "\n",
    "# Top correlated features\n",
    "top_corr_features = correlation[1:11]  # Exclude Attrition itself\n",
    "\n",
    "# Plot top correlated features\n",
    "plt.figure(figsize=(8, 6))\n",
    "sns.barplot(x=top_corr_features.values, y=top_corr_features.index, palette=\"coolwarm\")\n",
    "plt.xlabel(\"Correlation with Attrition\")\n",
    "plt.ylabel(\"Features\")\n",
    "plt.title(\"Top 10 Features Correlated with Attrition\")\n",
    "plt.show()\n",
    "\n",
    "# Display correlation values\n",
    "top_corr_features"
   ]
  }
 ],
 "metadata": {},
 "nbformat": 4,
 "nbformat_minor": 5
}
